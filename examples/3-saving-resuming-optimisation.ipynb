{
 "cells": [
  {
   "cell_type": "markdown",
   "metadata": {},
   "source": [
    "# GPSO optimisation example with saving the state and resuming\n",
    "\n",
    "Yes, you can optimise for $X$ and then realise: oh, I need more! You can even realise that after few days, so yes, you can save the state of the optimiser and resume from saved state on the disk."
   ]
  },
  {
   "cell_type": "code",
   "execution_count": 1,
   "metadata": {},
   "outputs": [],
   "source": [
    "# imports\n",
    "import os\n",
    "import numpy as np\n",
    "from shutil import rmtree\n",
    "import logging\n",
    "from gpflow.utilities import print_summary\n",
    "\n",
    "from gpso import ParameterSpace, GPSOptimiser, GPRSurrogate\n",
    "from gpso.utils import set_logger, make_dirs"
   ]
  },
  {
   "cell_type": "markdown",
   "metadata": {},
   "source": [
    "again, objective function and parameter space are without change"
   ]
  },
  {
   "cell_type": "code",
   "execution_count": 2,
   "metadata": {},
   "outputs": [],
   "source": [
    "# define objective function - compare with paper Fig. 2\n",
    "def obj(point, offset=0.0, rotate=True):\n",
    "    x, y = point\n",
    "    if rotate:\n",
    "        ct = np.cos(np.pi / 4)\n",
    "        st = np.sin(np.pi / 4)\n",
    "        xn = ct * x + st * y\n",
    "        yn = ct * y - st * x\n",
    "        x = xn\n",
    "        y = yn\n",
    "    return (\n",
    "        3 * (1 - x) ** 2.0 * np.exp(-(x ** 2) - (y + 1) ** 2)\n",
    "        - 10 * (x / 5.0 - x ** 3 - y ** 5) * np.exp(-(x ** 2) - y ** 2)\n",
    "        - 1 / 3 * np.exp(-((x + 1) ** 2) - y ** 2)\n",
    "        - offset\n",
    "    )\n",
    "\n",
    "\n",
    "# bounds of the parameters we will optimise\n",
    "x_bounds = [-3, 5]\n",
    "y_bounds = [-3, 3]\n",
    "# number of points per dimension for plotting\n",
    "N_POINTS = 120"
   ]
  },
  {
   "cell_type": "code",
   "execution_count": 3,
   "metadata": {},
   "outputs": [],
   "source": [
    "space = ParameterSpace(\n",
    "    parameter_names=[\"x\", \"y\"], parameter_bounds=[x_bounds, y_bounds]\n",
    ")"
   ]
  },
  {
   "cell_type": "markdown",
   "metadata": {},
   "source": [
    "### First optimisation\n",
    "Let's be naive and optimise only for 25 evaluations."
   ]
  },
  {
   "cell_type": "code",
   "execution_count": 4,
   "metadata": {},
   "outputs": [],
   "source": [
    "opt = GPSOptimiser(\n",
    "    parameter_space=space,\n",
    "    gp_surrogate=GPRSurrogate.default(),\n",
    "    exploration_method=\"tree\",\n",
    "    exploration_depth=5,\n",
    "    update_cycle=1,\n",
    "    budget=25,\n",
    "    stopping_condition=\"evaluations\",\n",
    "    n_workers=4,\n",
    ")"
   ]
  },
  {
   "cell_type": "code",
   "execution_count": 5,
   "metadata": {},
   "outputs": [
    {
     "name": "stderr",
     "output_type": "stream",
     "text": [
      "[2020-05-13 23:39:46] INFO: Starting 2-dimensional optimisation with budget of 25 objective function evaluations...\n",
      "[2020-05-13 23:39:46] INFO: Sampling 2 vertices per dimension within L1 ball of 0.25 of the domain size radius in normalised coordinates using 4 worker(s)...\n",
      "[2020-05-13 23:39:46] INFO: Update step: retraining GP model and updating scores...\n",
      "[2020-05-13 23:39:48] INFO: Exploration step: sampling children in the ternary tree...\n",
      "[2020-05-13 23:39:48] INFO: Selecting step: evaluating best leaves...\n",
      "[2020-05-13 23:39:48] INFO: Update step: retraining GP model and updating scores...\n",
      "[2020-05-13 23:39:49] INFO: After 1th iteration: \n",
      "\t number of obj. func. evaluations: 6 \n",
      "\t highest score: 2.019346080880167 \n",
      "\t highest UCB: 0.5464137300581137\n",
      "[2020-05-13 23:39:49] INFO: Exploration step: sampling children in the ternary tree...\n",
      "[2020-05-13 23:39:49] INFO: Selecting step: evaluating best leaves...\n",
      "[2020-05-13 23:39:49] INFO: Update step: retraining GP model and updating scores...\n",
      "[2020-05-13 23:39:49] INFO: After 2th iteration: \n",
      "\t number of obj. func. evaluations: 7 \n",
      "\t highest score: 2.019346080880167 \n",
      "\t highest UCB: 3.883138246958854\n",
      "[2020-05-13 23:39:49] INFO: Exploration step: sampling children in the ternary tree...\n",
      "[2020-05-13 23:39:49] INFO: Selecting step: evaluating best leaves...\n",
      "[2020-05-13 23:39:49] INFO: Update step: retraining GP model and updating scores...\n",
      "[2020-05-13 23:39:49] INFO: After 3th iteration: \n",
      "\t number of obj. func. evaluations: 9 \n",
      "\t highest score: 2.019346080880167 \n",
      "\t highest UCB: 3.5729359051551643\n",
      "[2020-05-13 23:39:49] INFO: Exploration step: sampling children in the ternary tree...\n",
      "[2020-05-13 23:39:50] INFO: Selecting step: evaluating best leaves...\n",
      "[2020-05-13 23:39:50] INFO: Update step: retraining GP model and updating scores...\n",
      "[2020-05-13 23:39:50] INFO: After 4th iteration: \n",
      "\t number of obj. func. evaluations: 12 \n",
      "\t highest score: 2.019346080880167 \n",
      "\t highest UCB: 3.259899162869818\n",
      "[2020-05-13 23:39:50] INFO: Exploration step: sampling children in the ternary tree...\n",
      "[2020-05-13 23:39:50] INFO: Selecting step: evaluating best leaves...\n",
      "[2020-05-13 23:39:50] INFO: Update step: retraining GP model and updating scores...\n",
      "[2020-05-13 23:39:51] INFO: After 5th iteration: \n",
      "\t number of obj. func. evaluations: 15 \n",
      "\t highest score: 6.822127355673395 \n",
      "\t highest UCB: 7.162332354239722\n",
      "[2020-05-13 23:39:51] INFO: Exploration step: sampling children in the ternary tree...\n",
      "[2020-05-13 23:39:51] INFO: Selecting step: evaluating best leaves...\n",
      "[2020-05-13 23:39:51] INFO: Update step: retraining GP model and updating scores...\n",
      "[2020-05-13 23:39:51] INFO: After 6th iteration: \n",
      "\t number of obj. func. evaluations: 19 \n",
      "\t highest score: 6.822127355673395 \n",
      "\t highest UCB: 6.965065385265779\n",
      "[2020-05-13 23:39:51] INFO: Exploration step: sampling children in the ternary tree...\n",
      "[2020-05-13 23:39:52] INFO: Selecting step: evaluating best leaves...\n",
      "[2020-05-13 23:39:52] INFO: Update step: retraining GP model and updating scores...\n",
      "[2020-05-13 23:39:52] INFO: After 7th iteration: \n",
      "\t number of obj. func. evaluations: 23 \n",
      "\t highest score: 6.822127355673395 \n",
      "\t highest UCB: 7.586308159954069\n",
      "[2020-05-13 23:39:52] INFO: Exploration step: sampling children in the ternary tree...\n",
      "[2020-05-13 23:39:53] INFO: Selecting step: evaluating best leaves...\n",
      "[2020-05-13 23:39:53] INFO: Update step: retraining GP model and updating scores...\n",
      "[2020-05-13 23:39:53] INFO: After 8th iteration: \n",
      "\t number of obj. func. evaluations: 27 \n",
      "\t highest score: 6.822127355673395 \n",
      "\t highest UCB: 7.0717763748098275\n",
      "[2020-05-13 23:39:53] INFO: Done. Highest evaluated score: 6.822127355673395\n"
     ]
    }
   ],
   "source": [
    "# log_level INFO: reasonable amount of information on what is happening\n",
    "# log_level DEBUG: a lot of information on what is happening\n",
    "set_logger(log_level=logging.INFO)\n",
    "# run vanilla, with default initialisation and just 1 repetition of objective function (since it's deterministic...)\n",
    "best_point_v1 = opt.run(obj)"
   ]
  },
  {
   "cell_type": "code",
   "execution_count": 6,
   "metadata": {},
   "outputs": [
    {
     "name": "stdout",
     "output_type": "stream",
     "text": [
      "GPPoint(normed_coord=array([0.27777778, 0.72222222]), score_mu=6.822127355673395, score_sigma=0.0, score_ucb=0.0, label=<PointLabels.evaluated: 1>)\n"
     ]
    },
    {
     "data": {
      "text/html": [
       "<table>\n",
       "<thead>\n",
       "<tr><th>name                   </th><th>class    </th><th>transform       </th><th>prior  </th><th>trainable  </th><th>shape  </th><th>dtype  </th><th style=\"text-align: right;\">      value</th></tr>\n",
       "</thead>\n",
       "<tbody>\n",
       "<tr><td>GPR.mean_function.c    </td><td>Parameter</td><td>                </td><td>       </td><td>True       </td><td>()     </td><td>float64</td><td style=\"text-align: right;\">0.311109   </td></tr>\n",
       "<tr><td>GPR.kernel.variance    </td><td>Parameter</td><td>Softplus        </td><td>       </td><td>True       </td><td>()     </td><td>float64</td><td style=\"text-align: right;\">3.38538    </td></tr>\n",
       "<tr><td>GPR.kernel.lengthscales</td><td>Parameter</td><td>Softplus        </td><td>       </td><td>True       </td><td>()     </td><td>float64</td><td style=\"text-align: right;\">0.104901   </td></tr>\n",
       "<tr><td>GPR.likelihood.variance</td><td>Parameter</td><td>Softplus + Shift</td><td>       </td><td>True       </td><td>()     </td><td>float64</td><td style=\"text-align: right;\">1.04832e-06</td></tr>\n",
       "</tbody>\n",
       "</table>"
      ],
      "text/plain": [
       "<IPython.core.display.HTML object>"
      ]
     },
     "metadata": {},
     "output_type": "display_data"
    }
   ],
   "source": [
    "print(best_point_v1)\n",
    "print_summary(opt.gp_surr.gpflow_model, fmt=\"notebook\")"
   ]
  },
  {
   "cell_type": "markdown",
   "metadata": {},
   "source": [
    "So we can see we are not there yet...\n",
    "Let's resume"
   ]
  },
  {
   "cell_type": "code",
   "execution_count": 7,
   "metadata": {},
   "outputs": [
    {
     "name": "stderr",
     "output_type": "stream",
     "text": [
      "[2020-05-13 23:39:53] INFO: Resuming optimisation for with additional budget of 25\n",
      "[2020-05-13 23:39:53] INFO: Exploration step: sampling children in the ternary tree...\n",
      "[2020-05-13 23:39:53] INFO: Selecting step: evaluating best leaves...\n",
      "[2020-05-13 23:39:53] INFO: Update step: retraining GP model and updating scores...\n",
      "[2020-05-13 23:39:54] INFO: After 9th iteration: \n",
      "\t number of obj. func. evaluations: 31 \n",
      "\t highest score: 6.822127355673395 \n",
      "\t highest UCB: 6.375786411525929\n",
      "[2020-05-13 23:39:54] INFO: Exploration step: sampling children in the ternary tree...\n",
      "[2020-05-13 23:39:54] INFO: Selecting step: evaluating best leaves...\n",
      "[2020-05-13 23:39:54] INFO: Update step: retraining GP model and updating scores...\n",
      "[2020-05-13 23:39:55] INFO: After 10th iteration: \n",
      "\t number of obj. func. evaluations: 36 \n",
      "\t highest score: 7.880218798440746 \n",
      "\t highest UCB: 7.6297163908975705\n",
      "[2020-05-13 23:39:55] INFO: Exploration step: sampling children in the ternary tree...\n",
      "[2020-05-13 23:39:55] INFO: Selecting step: evaluating best leaves...\n",
      "[2020-05-13 23:39:55] INFO: Update step: retraining GP model and updating scores...\n",
      "[2020-05-13 23:39:56] INFO: After 11th iteration: \n",
      "\t number of obj. func. evaluations: 40 \n",
      "\t highest score: 8.04056301525883 \n",
      "\t highest UCB: 8.036435700251587\n",
      "[2020-05-13 23:39:56] INFO: Exploration step: sampling children in the ternary tree...\n",
      "[2020-05-13 23:39:56] INFO: Selecting step: evaluating best leaves...\n",
      "[2020-05-13 23:39:56] INFO: Update step: retraining GP model and updating scores...\n",
      "[2020-05-13 23:39:57] INFO: After 12th iteration: \n",
      "\t number of obj. func. evaluations: 45 \n",
      "\t highest score: 8.04056301525883 \n",
      "\t highest UCB: 8.105553226530422\n",
      "[2020-05-13 23:39:57] INFO: Exploration step: sampling children in the ternary tree...\n",
      "[2020-05-13 23:39:57] INFO: Selecting step: evaluating best leaves...\n",
      "[2020-05-13 23:39:57] INFO: Update step: retraining GP model and updating scores...\n",
      "[2020-05-13 23:39:58] INFO: After 13th iteration: \n",
      "\t number of obj. func. evaluations: 52 \n",
      "\t highest score: 8.102201204076508 \n",
      "\t highest UCB: 8.074071892409629\n",
      "[2020-05-13 23:39:58] INFO: Done. Highest evaluated score: 8.102201204076508\n"
     ]
    }
   ],
   "source": [
    "# let's just resume for additional 25 evaluations\n",
    "best_point_v2 = opt.resume_run(additional_budget=25)"
   ]
  },
  {
   "cell_type": "code",
   "execution_count": 8,
   "metadata": {},
   "outputs": [
    {
     "name": "stdout",
     "output_type": "stream",
     "text": [
      "GPPoint(normed_coord=array([0.23662551, 0.68518519]), score_mu=8.102201204076508, score_sigma=0.0, score_ucb=0.0, label=<PointLabels.evaluated: 1>)\n"
     ]
    },
    {
     "data": {
      "text/html": [
       "<table>\n",
       "<thead>\n",
       "<tr><th>name                   </th><th>class    </th><th>transform       </th><th>prior  </th><th>trainable  </th><th>shape  </th><th>dtype  </th><th style=\"text-align: right;\">      value</th></tr>\n",
       "</thead>\n",
       "<tbody>\n",
       "<tr><td>GPR.mean_function.c    </td><td>Parameter</td><td>                </td><td>       </td><td>True       </td><td>()     </td><td>float64</td><td style=\"text-align: right;\">0.1915     </td></tr>\n",
       "<tr><td>GPR.kernel.variance    </td><td>Parameter</td><td>Softplus        </td><td>       </td><td>True       </td><td>()     </td><td>float64</td><td style=\"text-align: right;\">3.16384    </td></tr>\n",
       "<tr><td>GPR.kernel.lengthscales</td><td>Parameter</td><td>Softplus        </td><td>       </td><td>True       </td><td>()     </td><td>float64</td><td style=\"text-align: right;\">0.128714   </td></tr>\n",
       "<tr><td>GPR.likelihood.variance</td><td>Parameter</td><td>Softplus + Shift</td><td>       </td><td>True       </td><td>()     </td><td>float64</td><td style=\"text-align: right;\">1.04826e-06</td></tr>\n",
       "</tbody>\n",
       "</table>"
      ],
      "text/plain": [
       "<IPython.core.display.HTML object>"
      ]
     },
     "metadata": {},
     "output_type": "display_data"
    }
   ],
   "source": [
    "print(best_point_v2)\n",
    "print_summary(opt.gp_surr.gpflow_model, fmt=\"notebook\")"
   ]
  },
  {
   "cell_type": "markdown",
   "metadata": {},
   "source": [
    "So now we done! We have the same result as optimising 50 straight (makes sense...)"
   ]
  },
  {
   "cell_type": "markdown",
   "metadata": {},
   "source": [
    "### Save and resume\n",
    "Are we **really** done? Let's try to save the current state of the optimisation and imagine getting back in a few days...\n",
    "\n",
    "Side note: saving the optimiser state unfortunately loses callbacks and saver if any. We need to provide new ones for the resuming operation."
   ]
  },
  {
   "cell_type": "code",
   "execution_count": 9,
   "metadata": {},
   "outputs": [
    {
     "name": "stderr",
     "output_type": "stream",
     "text": [
      "[2020-05-13 23:39:58] WARNING: When saving, all callbacks and saver will be lost!\n",
      "[2020-05-13 23:39:58] WARNING: output could not be created: [Errno 17] File exists: 'output'\n",
      "[2020-05-13 23:39:58] INFO: Saved optimiser to output\n"
     ]
    }
   ],
   "source": [
    "output_dir = \"output\"\n",
    "opt.save_state(output_dir)"
   ]
  },
  {
   "cell_type": "code",
   "execution_count": 10,
   "metadata": {},
   "outputs": [
    {
     "name": "stderr",
     "output_type": "stream",
     "text": [
      "[2020-05-13 23:39:58] INFO: Resuming optimisation for with additional budget of 25\n",
      "[2020-05-13 23:39:58] INFO: Exploration step: sampling children in the ternary tree...\n",
      "[2020-05-13 23:39:59] INFO: Selecting step: evaluating best leaves...\n",
      "[2020-05-13 23:39:59] INFO: Update step: retraining GP model and updating scores...\n",
      "[2020-05-13 23:39:59] INFO: After 14th iteration: \n",
      "\t number of obj. func. evaluations: 56 \n",
      "\t highest score: 8.10343046869997 \n",
      "\t highest UCB: 8.098495608051296\n",
      "[2020-05-13 23:39:59] INFO: Exploration step: sampling children in the ternary tree...\n",
      "[2020-05-13 23:40:00] INFO: Selecting step: evaluating best leaves...\n",
      "[2020-05-13 23:40:00] INFO: Update step: retraining GP model and updating scores...\n",
      "[2020-05-13 23:40:00] INFO: After 15th iteration: \n",
      "\t number of obj. func. evaluations: 61 \n",
      "\t highest score: 8.10343046869997 \n",
      "\t highest UCB: 8.098763407817744\n",
      "[2020-05-13 23:40:00] INFO: Exploration step: sampling children in the ternary tree...\n",
      "[2020-05-13 23:40:01] INFO: Selecting step: evaluating best leaves...\n",
      "[2020-05-13 23:40:01] INFO: Update step: retraining GP model and updating scores...\n",
      "[2020-05-13 23:40:02] INFO: After 16th iteration: \n",
      "\t number of obj. func. evaluations: 66 \n",
      "\t highest score: 8.106012429922291 \n",
      "\t highest UCB: 8.10536698041385\n",
      "[2020-05-13 23:40:02] INFO: Exploration step: sampling children in the ternary tree...\n",
      "[2020-05-13 23:40:03] INFO: Selecting step: evaluating best leaves...\n",
      "[2020-05-13 23:40:03] INFO: Update step: retraining GP model and updating scores...\n",
      "[2020-05-13 23:40:04] INFO: After 17th iteration: \n",
      "\t number of obj. func. evaluations: 71 \n",
      "\t highest score: 8.106012429922291 \n",
      "\t highest UCB: 8.105608158949753\n",
      "[2020-05-13 23:40:04] INFO: Exploration step: sampling children in the ternary tree...\n",
      "[2020-05-13 23:40:05] INFO: Selecting step: evaluating best leaves...\n",
      "[2020-05-13 23:40:05] INFO: Update step: retraining GP model and updating scores...\n",
      "[2020-05-13 23:40:06] INFO: After 18th iteration: \n",
      "\t number of obj. func. evaluations: 77 \n",
      "\t highest score: 8.106141171216883 \n",
      "\t highest UCB: 8.105864463137733\n",
      "[2020-05-13 23:40:06] INFO: Done. Highest evaluated score: 8.106141171216883\n"
     ]
    }
   ],
   "source": [
    "# we need to provide objective function again, it's hard to save callable like that...\n",
    "best_point_v3, opt_loaded = GPSOptimiser.resume_from_saved(\n",
    "    output_dir, additional_budget=25, objective_function=obj\n",
    ")\n",
    "# the `resume_from_saved` directly resumes the optimisation and in the end return new best point and optimiser itself,\n",
    "# so you can save it again"
   ]
  },
  {
   "cell_type": "code",
   "execution_count": 11,
   "metadata": {},
   "outputs": [
    {
     "name": "stdout",
     "output_type": "stream",
     "text": [
      "GPPoint(normed_coord=array([0.23433928, 0.68564243]), score_mu=8.106141171216883, score_sigma=0.0, score_ucb=0.0, label=<PointLabels.evaluated: 1>)\n"
     ]
    },
    {
     "data": {
      "text/html": [
       "<table>\n",
       "<thead>\n",
       "<tr><th>name                   </th><th>class    </th><th>transform       </th><th>prior  </th><th>trainable  </th><th>shape  </th><th>dtype  </th><th style=\"text-align: right;\">      value</th></tr>\n",
       "</thead>\n",
       "<tbody>\n",
       "<tr><td>GPR.mean_function.c    </td><td>Parameter</td><td>                </td><td>       </td><td>True       </td><td>()     </td><td>float64</td><td style=\"text-align: right;\">0.1915     </td></tr>\n",
       "<tr><td>GPR.kernel.variance    </td><td>Parameter</td><td>Softplus        </td><td>       </td><td>True       </td><td>()     </td><td>float64</td><td style=\"text-align: right;\">3.16384    </td></tr>\n",
       "<tr><td>GPR.kernel.lengthscales</td><td>Parameter</td><td>Softplus        </td><td>       </td><td>True       </td><td>()     </td><td>float64</td><td style=\"text-align: right;\">0.128714   </td></tr>\n",
       "<tr><td>GPR.likelihood.variance</td><td>Parameter</td><td>Softplus + Shift</td><td>       </td><td>True       </td><td>()     </td><td>float64</td><td style=\"text-align: right;\">1.04826e-06</td></tr>\n",
       "</tbody>\n",
       "</table>"
      ],
      "text/plain": [
       "<IPython.core.display.HTML object>"
      ]
     },
     "metadata": {},
     "output_type": "display_data"
    }
   ],
   "source": [
    "print(best_point_v3)\n",
    "print_summary(opt.gp_surr.gpflow_model, fmt=\"notebook\")"
   ]
  },
  {
   "cell_type": "markdown",
   "metadata": {},
   "source": [
    "Not much better... Meaning that we couldn't top the highest score by optimising more. At least we see that we optimised the hell out of it!"
   ]
  },
  {
   "cell_type": "code",
   "execution_count": 12,
   "metadata": {},
   "outputs": [],
   "source": [
    "# cleaning - run after you check the results!\n",
    "rmtree(output_dir)"
   ]
  }
 ],
 "metadata": {
  "kernelspec": {
   "display_name": "Python 3",
   "language": "python",
   "name": "python3"
  },
  "language_info": {
   "codemirror_mode": {
    "name": "ipython",
    "version": 3
   },
   "file_extension": ".py",
   "mimetype": "text/x-python",
   "name": "python",
   "nbconvert_exporter": "python",
   "pygments_lexer": "ipython3",
   "version": "3.7.7"
  }
 },
 "nbformat": 4,
 "nbformat_minor": 4
}
